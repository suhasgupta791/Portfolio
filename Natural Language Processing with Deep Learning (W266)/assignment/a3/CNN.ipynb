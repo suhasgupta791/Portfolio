{
 "cells": [
  {
   "cell_type": "markdown",
   "metadata": {},
   "source": [
    "# Convolutional Neural Networks\n",
    "\n",
    "This notebook introduces convolutional neural networks (CNNs), a more powerful classification model similar to the Neural Bag-of-Words (BOW) model you explored earlier.\n",
    "\n",
    "## Outline\n",
    "\n",
    "- **Part (a):** Model Architecture\n",
    "- **Part (b):** Implementing the CNN Model\n",
    "- **Part (c):** Tuning"
   ]
  },
  {
   "cell_type": "code",
   "execution_count": 1,
   "metadata": {},
   "outputs": [
    {
     "name": "stdout",
     "output_type": "stream",
     "text": [
      "Overriding nltk.tree.Tree pretty-printing to use custom GraphViz.\n"
     ]
    }
   ],
   "source": [
    "from __future__ import division\n",
    "import os, sys, re, json, time, datetime, shutil\n",
    "import itertools, collections\n",
    "from importlib import reload\n",
    "from IPython.display import display, HTML\n",
    "\n",
    "# NLTK for NLP utils and corpora\n",
    "import nltk\n",
    "\n",
    "# NumPy and TensorFlow\n",
    "import numpy as np\n",
    "import pandas as pd\n",
    "import tensorflow as tf\n",
    "from tensorflow import keras\n",
    "\n",
    "# Helper libraries\n",
    "from w266_common import utils, vocabulary, tf_embed_viz, treeviz\n",
    "from w266_common import patched_numpy_io\n",
    "# Code for this assignment\n",
    "import sst\n",
    "\n",
    "# Monkey-patch NLTK with better Tree display that works on Cloud or other display-less server.\n",
    "print(\"Overriding nltk.tree.Tree pretty-printing to use custom GraphViz.\")\n",
    "treeviz.monkey_patch(nltk.tree.Tree, node_style_fn=sst.sst_node_style, format='svg')"
   ]
  },
  {
   "cell_type": "markdown",
   "metadata": {},
   "source": [
    "## (a) Model Architecture\n",
    "\n",
    "CNNs are a more sophisticated neural model for sentence classification than the Neural BOW model we saw in the last section. CNNs operate by sweeping a collection of filters over a text. Each filter produces a sequence of feature values known as a _feature map_. In one of the most basic formulations introduced by [Kim (2014)](https://www.aclweb.org/anthology/D14-1181), a single layer of _pooling_ is used to summarize the _feature maps_ as a fixed length vector. The fixed length vector is then feed to the output layer in order to produce classification labels. A popular choice for the pooling operation is to take the maximum feature value from by each _feature map_.\n",
    "\n",
    "![Convolutional Neural Network from Kim 2014](kim_2014_figure_1_cnn.png)\n",
    "*CNN model architure, Figure 1 from Kim (2014)*\n",
    "\n",
    "We'll use the following notation:\n",
    "- $w^{(i)} \\in \\mathbb{Z}$, the word id for the $i^{th}$ word of the sequence (as an integer index)\n",
    "- $x^{(i)} \\in \\mathbb{R}^d$ for the vector representation (embedding) of $w^{(i)}$\n",
    "- $x^{i:i+j}$ is the concatenation of $x^{(i)}, x^{(i+1)} ... x^{(i+j)}$ \n",
    "- $c^{(i)}_{k}$ is the value of the $k^{th}$ feature map along the word sequence, each filter applies over a window of $h$ words and uses non-linearity $f$.\n",
    "- $\\hat{c}_{k}$ is the value of the $k^{th}$ feature after pooling the feature map over the whole sequence.\n",
    "- $\\hat{C}$ is the concatenation of pooled feature maps. \n",
    "- $y$ for the target label ($\\in 1,\\ldots,\\mathtt{num\\_classes}$)\n",
    "\n",
    "Our model is defined as:\n",
    "- **Embedding layer:** $x^{(i)} = W_{embed}[w^{(i)}]$\n",
    "- **Convolutional layer:** $c^{(i)}_{k} = f(x^{i:i+h-1} W_k + b)$\n",
    "- **Pooling layer:**  $\\hat{c}_{k}$ = $max(c^{(0)}_{k}, c^{(1)}_{k}...)$ \n",
    "- **Output layer:** $\\hat{y} = \\hat{P}(y) = \\mathrm{softmax}(\\hat{C} W_{out} + b_{out})$\n",
    "\n",
    "\n",
    "We'll refer to the first part of this model (**Embedding layer**, **Convolutional layer**, and **Pooling layer**) as the **Encoder**: it has the role of encoding the input sequence into a fixed-length vector representation that we pass to the output layer.\n",
    "\n",
    "We'll also use these as shorthand for important dimensions:\n",
    "- `V`: the vocabulary size (equal to `ds.vocab.size`)\n",
    "- `N`: the maximum number of tokens in the input text\n",
    "- `embed_dim`: the embedding dimension $d$\n",
    "- `kernel_size`: a list of filter lengths\n",
    "- `filters`: number filters per filter length\n",
    "- `num_classes`: the number of target classes (2 for the binary task)"
   ]
  },
  {
   "cell_type": "markdown",
   "metadata": {},
   "source": [
    "## (a) Short Answer Questions\n",
    "\n",
    "When answering these questions in the answers file,\n",
    "`embed_dim = 10`, `kernel_size = [3, 4, 5]`, `filters=128`, `N=10` and `num_classes = 7`.\n",
    "\n",
    "1. In terms of these values, the vocabulary size `V` and the maximum sequence length `N`, what are the\n",
    "   shapes of the following variables: \n",
    "   $c^{(i)}_{kernal\\_size=3}$, $c^{(i)}_{kernal\\_size=4}$, $c^{(i)}_{kernal\\_size=5}$, $\\hat{c}^{(i)}_{kernal\\_size=3}$, $\\hat{c}^{(i)}_{kernal\\_size=4}$, $\\hat{c}^{(i)}_{kernal\\_size=5}$, and $\\hat{C}$. Assume a stride size of 1. Assume padding is not used (e.g., for tf.nn.max_pool and tf.nn.conv1d, setting padding='VALID'), provide the shapes listed above.\n",
    "<p>\n",
    "2. What are the shapes of $c^{(i)}_{kernal\\_size=3}$ and $\\hat{c}^{(i)}_{kernal\\_size=3}$ when paddiding is used.\n",
    "      (e.g., for tf.nn.max_pool and tf.nn.conv1d, setting padding='same').\n",
    "<p>\n",
    "3. How many parameters are in each of the convolutional filters, $W_{filter\\_length=3}$, $W_{filter\\_length=4}$, $W_{filter\\_length=5}$? And the output layer, $W_{out}$?\n",
    "<p>\n",
    "<p>\n",
    "4. Historically NLP models made heavy use of manual feature engineering. In relation to systems with manually engineered features, describe what type of operation is being performed by the convolutional filters.\n",
    "<p>\n",
    "5. Suppose that we have two examples, `[foo bar baz]` and `[baz bar foo]`. Will this model make the same predictions on these? Why or why not?"
   ]
  },
  {
   "cell_type": "markdown",
   "metadata": {},
   "source": [
    "## (b) Implementing the CNN Model\n",
    "\n",
    "We'll implement our CNN model below. Our implementation will differ from [Kim (2014)](https://www.aclweb.org/anthology/D14-1181) in that we will support using multiple dense hidden layers after the convolutional layers.\n",
    "\n",
    "**Before you start**, be sure to answer the short-answer questions above!"
   ]
  },
  {
   "cell_type": "code",
   "execution_count": 2,
   "metadata": {},
   "outputs": [
    {
     "name": "stdout",
     "output_type": "stream",
     "text": [
      "Loading SST from data/sst/trainDevTestTrees_PTB.zip\n",
      "Training set:     8,544 trees\n",
      "Development set:  1,101 trees\n",
      "Test set:         2,210 trees\n",
      "Building vocabulary - 16,474 words\n",
      "Processing to phrases...  Done!\n",
      "Splits: train / dev / test : 98,794 / 13,142 / 26,052\n"
     ]
    }
   ],
   "source": [
    "import sst\n",
    "\n",
    "# Load SST dataset\n",
    "ds = sst.SSTDataset(V=20000).process(label_scheme=\"binary\")\n",
    "max_len = 40\n",
    "train_x, train_ns, train_y = ds.as_padded_array('train', max_len=max_len, root_only=True)\n",
    "dev_x,   dev_ns,   dev_y   = ds.as_padded_array('dev',   max_len=max_len, root_only=True)\n",
    "test_x,  test_ns,  test_y  = ds.as_padded_array('test',  max_len=max_len, root_only=True)"
   ]
  },
  {
   "cell_type": "code",
   "execution_count": 14,
   "metadata": {},
   "outputs": [],
   "source": [
    "# Specify model hyperparameters.\n",
    "epochs = 10\n",
    "embed_dim = 5\n",
    "num_filters = [2, 2, 2]\n",
    "kernel_sizes = [2, 3, 4]\n",
    "dense_layer_dims = []\n",
    "dropout_rate = 0.8\n",
    "num_classes = len(ds.target_names)\n",
    "\n",
    "# Construct the convolutional neural network.\n",
    "# The form of each keras layer function is as follows:\n",
    "#    result = keras.layers.LayerType(arguments for the layer)(layer(s) it should use as input)\n",
    "# concretely,\n",
    "#    this_layer_output = keras.layers.Dense(100, activation='relu')(prev_layer_vector)\n",
    "# performs this_layer_output = relu(prev_layer_vector x W + b) where W has 100 columns.\n",
    "\n",
    "# Input is a special \"layer\".  It defines a placeholder that will be overwritten by the training data.\n",
    "# In our case, we are accepting a list of wordids (padded out to max_len).\n",
    "wordids = keras.layers.Input(shape=(max_len,))\n",
    "\n",
    "# Embed the wordids.\n",
    "# Recall, this is just a mathematically equivalent operation to a linear layer and a one-hot\n",
    "h = keras.layers.Embedding(ds.vocab.size, embed_dim, input_length=max_len)(wordids)\n",
    "\n",
    "# Construct \"filters\" randomly initialized filters with dimension \"kernel_size\" for each size of filter we want.\n",
    "# With the default hyperparameters, we construct 10 filters each of size 2, 3, 4.  As in the image above, each filter\n",
    "# is wide enough to span the whole word embedding (this is why the convolution is \"1d\" as seen in the\n",
    "# function name below).\n",
    "conv_layers_for_all_kernel_sizes = []\n",
    "for kernel_size, filters in zip(kernel_sizes, num_filters):\n",
    "    conv_layer = keras.layers.Conv1D(filters=filters, kernel_size=kernel_size, activation='relu')(h)\n",
    "    conv_layer = keras.layers.GlobalMaxPooling1D()(conv_layer)\n",
    "    conv_layers_for_all_kernel_sizes.append(conv_layer)\n",
    "    \n",
    "# Concat the feature maps from each different size.\n",
    "h = keras.layers.concatenate(conv_layers_for_all_kernel_sizes, axis=1)\n",
    "\n",
    "# Dropout can help with overfitting (improve generalization) by randomly 0-ing different subsets of values\n",
    "# in the vector.\n",
    "# See https://www.cs.toronto.edu/~hinton/absps/JMLRdropout.pdf for details.\n",
    "h = keras.layers.Dropout(rate=dropout_rate)(h)\n",
    "### YOUR CODE HERE\n",
    "\n",
    "# Add a fully connected layer for each dense layer dimension in dense_layer_dims.\n",
    "for dim in dense_layer_dims:\n",
    "    h = keras.layers.Dense(dim,activation='relu')(h)\n",
    "### END YOUR CODE\n",
    "\n",
    "prediction = keras.layers.Dense(num_classes, activation='softmax')(h)\n",
    "\n",
    "model = keras.Model(inputs=wordids, outputs=prediction)\n",
    "model.compile(optimizer='adam',\n",
    "              loss='sparse_categorical_crossentropy',  # From information theory notebooks.\n",
    "              metrics=['accuracy'])        # What metric to output as we train."
   ]
  },
  {
   "cell_type": "code",
   "execution_count": 17,
   "metadata": {
    "scrolled": true
   },
   "outputs": [
    {
     "name": "stdout",
     "output_type": "stream",
     "text": [
      "Epoch 1/10\n",
      "6920/6920 [==============================] - 1s 82us/sample - loss: 0.3997 - acc: 0.7698\n",
      "Epoch 2/10\n",
      "6920/6920 [==============================] - 1s 74us/sample - loss: 0.3945 - acc: 0.7773\n",
      "Epoch 3/10\n",
      "6920/6920 [==============================] - 1s 78us/sample - loss: 0.3898 - acc: 0.7801\n",
      "Epoch 4/10\n",
      "6920/6920 [==============================] - 1s 79us/sample - loss: 0.4015 - acc: 0.7710\n",
      "Epoch 5/10\n",
      "6920/6920 [==============================] - 1s 77us/sample - loss: 0.3952 - acc: 0.7749\n",
      "Epoch 6/10\n",
      "6920/6920 [==============================] - 1s 74us/sample - loss: 0.4040 - acc: 0.7686\n",
      "Epoch 7/10\n",
      "6920/6920 [==============================] - 1s 73us/sample - loss: 0.3991 - acc: 0.7721\n",
      "Epoch 8/10\n",
      "6920/6920 [==============================] - 1s 74us/sample - loss: 0.4022 - acc: 0.7697\n",
      "Epoch 9/10\n",
      "6920/6920 [==============================] - 1s 76us/sample - loss: 0.4018 - acc: 0.7704\n",
      "Epoch 10/10\n",
      "6920/6920 [==============================] - 1s 74us/sample - loss: 0.3922 - acc: 0.7789\n"
     ]
    },
    {
     "data": {
      "text/plain": [
       "<tensorflow.python.keras.callbacks.History at 0x7f935d0a5d30>"
      ]
     },
     "execution_count": 17,
     "metadata": {},
     "output_type": "execute_result"
    }
   ],
   "source": [
    "model.reset_states()\n",
    "model.fit(train_x, train_y, epochs=epochs)"
   ]
  },
  {
   "cell_type": "markdown",
   "metadata": {},
   "source": [
    "## Evaluation\n",
    "\n",
    "Call [evaluate](https://keras.io/models/model/#evaluate) on your model."
   ]
  },
  {
   "cell_type": "code",
   "execution_count": 18,
   "metadata": {},
   "outputs": [
    {
     "name": "stdout",
     "output_type": "stream",
     "text": [
      "---Evaluating on dev data set---\n",
      "872/872 [==============================] - 0s 107us/sample - loss: 0.9727 - acc: 0.6938\n",
      "\n",
      "---Evaluating on test data set---\n",
      "1821/1821 [==============================] - 0s 28us/sample - loss: 0.9370 - acc: 0.6886\n"
     ]
    },
    {
     "data": {
      "text/plain": [
       "[0.9369868661989424, 0.6886326]"
      ]
     },
     "execution_count": 18,
     "metadata": {},
     "output_type": "execute_result"
    }
   ],
   "source": [
    "#### YOUR CODE HERE ####\n",
    "print(\"---Evaluating on dev data set---\")\n",
    "model.evaluate(dev_x,dev_y,verbose=1)\n",
    "print(\"\\n---Evaluating on test data set---\")\n",
    "model.evaluate(test_x,test_y,verbose=1)\n",
    "#### END(YOUR CODE) ####"
   ]
  },
  {
   "cell_type": "markdown",
   "metadata": {},
   "source": [
    "# Part (c): Tuning Your Model\n",
    "\n",
    "We'll once again want to optimize hyperparameters for our model to see if we can improve performance. The CNN model includes a number of new parameters that can significantly influence model performance.\n",
    "\n",
    "In this section, you will be asked to describe the new parameters as well as use them to attempt to improve the performance of your model.\n",
    "\n",
    "## Part (c) Short Answer Questions\n",
    "\n",
    "  1. Choose two parameters unique the CNN model, perform at least 10 runs with different combinations of values for these parameters, and then report the dev set results below. ***Hint: Consider wrapping the training code above in a for loop the examines the different values.***  To do this efficiently, you should consider [this paper](http://www.jmlr.org/papers/volume13/bergstra12a/bergstra12a.pdf) from Bergstra and Bengio.  [This blog post](https://blog.floydhub.com/guide-to-hyperparameters-search-for-deep-learning-models/) also has a less formal treatment of the same topic.\n",
    "  2. Describe any trends you see in experiments above (e.g., can you identify good ranges for the individual parameters; are there any interesting interactions?)\n",
    "  3. Pick the three best configurations according to the dev set and evaluate them on the test data. Is the ranking of the three best models the same on the dev and test sets?\n",
    "  4. What was the best accuracy you achieved on the test set?"
   ]
  },
  {
   "cell_type": "code",
   "execution_count": 19,
   "metadata": {},
   "outputs": [],
   "source": [
    "# Define a module for the network architecture\n",
    "def create_model(kernel_sizes=[2,3,4],num_filters=[2,2,2],dense_layer_dims=[]):\n",
    "    wordids = keras.layers.Input(shape=(max_len,))\n",
    "    h = keras.layers.Embedding(ds.vocab.size, embed_dim, input_length=max_len)(wordids)\n",
    "    conv_layers_for_all_kernel_sizes = []\n",
    "    for kernel_size, filters in zip(kernel_sizes, num_filters):\n",
    "        conv_layer = keras.layers.Conv1D(filters=filters, kernel_size=kernel_size, activation='relu')(h)\n",
    "        conv_layer = keras.layers.GlobalMaxPooling1D()(conv_layer)\n",
    "        conv_layers_for_all_kernel_sizes.append(conv_layer)\n",
    "    h = keras.layers.concatenate(conv_layers_for_all_kernel_sizes, axis=1)\n",
    "    h = keras.layers.Dropout(rate=dropout_rate)(h)\n",
    "    for dim in dense_layer_dims:\n",
    "        h = keras.layers.Dense(dim,activation='relu')(h)\n",
    "    predictions = keras.layers.Dense(num_classes, activation='softmax')(h)\n",
    "    model = keras.Model(inputs=wordids, outputs=predictions)\n",
    "    model.compile(optimizer='adam',\n",
    "              loss='sparse_categorical_crossentropy',  \n",
    "              metrics=['accuracy'])  \n",
    "    return model"
   ]
  },
  {
   "cell_type": "markdown",
   "metadata": {},
   "source": [
    "Choose the following parameters for tuning the neural network:\n",
    "- Number of filters for each kernel size\n",
    "- Filter kernel size\n"
   ]
  },
  {
   "cell_type": "code",
   "execution_count": 25,
   "metadata": {
    "scrolled": true
   },
   "outputs": [
    {
     "name": "stdout",
     "output_type": "stream",
     "text": [
      "---Iteration  1 of 52\n",
      "Kernel Sizes: [3, 4, 5] | Number of filters: 7 | Dev Loss: 0.8222532086416122 | Accuracy: 0.73509175\n",
      "Execution Time: 10.2120 seconds\n",
      "--------------------------------------------------------------------------------------------------------------\n",
      "---Iteration  2 of 52\n",
      "Kernel Sizes: [3, 4, 5] | Number of filters: 8 | Dev Loss: 1.0970925169253567 | Accuracy: 0.7201835\n",
      "Execution Time: 10.5804 seconds\n",
      "--------------------------------------------------------------------------------------------------------------\n",
      "---Iteration  3 of 52\n",
      "Kernel Sizes: [3, 4, 5] | Number of filters: 9 | Dev Loss: 0.9818469663278773 | Accuracy: 0.73279816\n",
      "Execution Time: 10.6822 seconds\n",
      "--------------------------------------------------------------------------------------------------------------\n",
      "---Iteration  4 of 52\n",
      "Kernel Sizes: [3, 4, 5] | Number of filters: 10 | Dev Loss: 0.9581460865265733 | Accuracy: 0.7305046\n",
      "Execution Time: 10.8957 seconds\n",
      "--------------------------------------------------------------------------------------------------------------\n",
      "---Iteration  5 of 52\n",
      "Kernel Sizes: [3, 4, 5] | Number of filters: 11 | Dev Loss: 1.2556121819609896 | Accuracy: 0.71100914\n",
      "Execution Time: 11.2063 seconds\n",
      "--------------------------------------------------------------------------------------------------------------\n",
      "---Iteration  6 of 52\n",
      "Kernel Sizes: [3, 4, 5] | Number of filters: 12 | Dev Loss: 0.9217637099257303 | Accuracy: 0.7454128\n",
      "Execution Time: 11.5546 seconds\n",
      "--------------------------------------------------------------------------------------------------------------\n"
     ]
    },
    {
     "name": "stderr",
     "output_type": "stream",
     "text": [
      "Exception ignored in: <bound method BaseSession._Callable.__del__ of <tensorflow.python.client.session.BaseSession._Callable object at 0x7f935768f0f0>>\n",
      "Traceback (most recent call last):\n",
      "  File \"/home/suhasgupta/.local/lib/python3.6/site-packages/tensorflow/python/client/session.py\", line 1455, in __del__\n",
      "    self._session._session, self._handle, status)\n",
      "  File \"/home/suhasgupta/.local/lib/python3.6/site-packages/tensorflow/python/framework/errors_impl.py\", line 528, in __exit__\n",
      "    c_api.TF_GetCode(self.status.status))\n",
      "tensorflow.python.framework.errors_impl.CancelledError: Session has been closed.\n",
      "Exception ignored in: <bound method BaseSession._Callable.__del__ of <tensorflow.python.client.session.BaseSession._Callable object at 0x7f935768b6a0>>\n",
      "Traceback (most recent call last):\n",
      "  File \"/home/suhasgupta/.local/lib/python3.6/site-packages/tensorflow/python/client/session.py\", line 1455, in __del__\n",
      "    self._session._session, self._handle, status)\n",
      "  File \"/home/suhasgupta/.local/lib/python3.6/site-packages/tensorflow/python/framework/errors_impl.py\", line 528, in __exit__\n",
      "    c_api.TF_GetCode(self.status.status))\n",
      "tensorflow.python.framework.errors_impl.CancelledError: Session has been closed.\n",
      "Exception ignored in: <bound method BaseSession._Callable.__del__ of <tensorflow.python.client.session.BaseSession._Callable object at 0x7f9357470cc0>>\n",
      "Traceback (most recent call last):\n",
      "  File \"/home/suhasgupta/.local/lib/python3.6/site-packages/tensorflow/python/client/session.py\", line 1455, in __del__\n",
      "    self._session._session, self._handle, status)\n",
      "  File \"/home/suhasgupta/.local/lib/python3.6/site-packages/tensorflow/python/framework/errors_impl.py\", line 528, in __exit__\n",
      "    c_api.TF_GetCode(self.status.status))\n",
      "tensorflow.python.framework.errors_impl.CancelledError: Session has been closed.\n",
      "Exception ignored in: <bound method BaseSession._Callable.__del__ of <tensorflow.python.client.session.BaseSession._Callable object at 0x7f93574017b8>>\n",
      "Traceback (most recent call last):\n",
      "  File \"/home/suhasgupta/.local/lib/python3.6/site-packages/tensorflow/python/client/session.py\", line 1455, in __del__\n",
      "    self._session._session, self._handle, status)\n",
      "  File \"/home/suhasgupta/.local/lib/python3.6/site-packages/tensorflow/python/framework/errors_impl.py\", line 528, in __exit__\n",
      "    c_api.TF_GetCode(self.status.status))\n",
      "tensorflow.python.framework.errors_impl.CancelledError: Session has been closed.\n",
      "Exception ignored in: <bound method BaseSession._Callable.__del__ of <tensorflow.python.client.session.BaseSession._Callable object at 0x7f93571a3b00>>\n",
      "Traceback (most recent call last):\n",
      "  File \"/home/suhasgupta/.local/lib/python3.6/site-packages/tensorflow/python/client/session.py\", line 1455, in __del__\n",
      "    self._session._session, self._handle, status)\n",
      "  File \"/home/suhasgupta/.local/lib/python3.6/site-packages/tensorflow/python/framework/errors_impl.py\", line 528, in __exit__\n",
      "    c_api.TF_GetCode(self.status.status))\n",
      "tensorflow.python.framework.errors_impl.CancelledError: Session has been closed.\n",
      "Exception ignored in: <bound method BaseSession._Callable.__del__ of <tensorflow.python.client.session.BaseSession._Callable object at 0x7f93571a59e8>>\n",
      "Traceback (most recent call last):\n",
      "  File \"/home/suhasgupta/.local/lib/python3.6/site-packages/tensorflow/python/client/session.py\", line 1455, in __del__\n",
      "    self._session._session, self._handle, status)\n",
      "  File \"/home/suhasgupta/.local/lib/python3.6/site-packages/tensorflow/python/framework/errors_impl.py\", line 528, in __exit__\n",
      "    c_api.TF_GetCode(self.status.status))\n",
      "tensorflow.python.framework.errors_impl.CancelledError: Session has been closed.\n"
     ]
    },
    {
     "name": "stdout",
     "output_type": "stream",
     "text": [
      "---Iteration  7 of 52\n",
      "Kernel Sizes: [3, 4, 5] | Number of filters: 13 | Dev Loss: 1.2458213819276303 | Accuracy: 0.70298165\n",
      "Execution Time: 12.6228 seconds\n",
      "--------------------------------------------------------------------------------------------------------------\n",
      "---Iteration  8 of 52\n",
      "Kernel Sizes: [3, 4, 5] | Number of filters: 14 | Dev Loss: 1.1026166305629486 | Accuracy: 0.7396789\n",
      "Execution Time: 12.9826 seconds\n",
      "--------------------------------------------------------------------------------------------------------------\n",
      "---Iteration  9 of 52\n",
      "Kernel Sizes: [3, 4, 5] | Number of filters: 15 | Dev Loss: 0.932551706602814 | Accuracy: 0.76490825\n",
      "Execution Time: 13.2417 seconds\n",
      "--------------------------------------------------------------------------------------------------------------\n",
      "---Iteration  10 of 52\n",
      "Kernel Sizes: [3, 4, 5] | Number of filters: 16 | Dev Loss: 1.0060493967948703 | Accuracy: 0.728211\n",
      "Execution Time: 13.2469 seconds\n",
      "--------------------------------------------------------------------------------------------------------------\n",
      "---Iteration  11 of 52\n",
      "Kernel Sizes: [3, 4, 5] | Number of filters: 17 | Dev Loss: 1.1125431159220704 | Accuracy: 0.73509175\n",
      "Execution Time: 14.0010 seconds\n",
      "--------------------------------------------------------------------------------------------------------------\n",
      "---Iteration  12 of 52\n",
      "Kernel Sizes: [3, 4, 5] | Number of filters: 18 | Dev Loss: 1.0633297502447705 | Accuracy: 0.7591743\n",
      "Execution Time: 13.7033 seconds\n",
      "--------------------------------------------------------------------------------------------------------------\n",
      "---Iteration  13 of 52\n",
      "Kernel Sizes: [3, 4, 5] | Number of filters: 19 | Dev Loss: 0.9618321175968975 | Accuracy: 0.77408254\n",
      "Execution Time: 13.7844 seconds\n",
      "--------------------------------------------------------------------------------------------------------------\n",
      "---Iteration  14 of 52\n",
      "Kernel Sizes: [3, 4, 5, 6] | Number of filters: 7 | Dev Loss: 0.9088872255535301 | Accuracy: 0.728211\n",
      "Execution Time: 14.4406 seconds\n",
      "--------------------------------------------------------------------------------------------------------------\n",
      "---Iteration  15 of 52\n",
      "Kernel Sizes: [3, 4, 5, 6] | Number of filters: 8 | Dev Loss: 0.9062816713928082 | Accuracy: 0.7224771\n",
      "Execution Time: 14.8091 seconds\n",
      "--------------------------------------------------------------------------------------------------------------\n",
      "---Iteration  16 of 52\n",
      "Kernel Sizes: [3, 4, 5, 6] | Number of filters: 9 | Dev Loss: 1.1257099175671919 | Accuracy: 0.70298165\n",
      "Execution Time: 15.5056 seconds\n",
      "--------------------------------------------------------------------------------------------------------------\n",
      "---Iteration  17 of 52\n",
      "Kernel Sizes: [3, 4, 5, 6] | Number of filters: 10 | Dev Loss: 1.1199968364260613 | Accuracy: 0.7167431\n",
      "Execution Time: 15.8390 seconds\n",
      "--------------------------------------------------------------------------------------------------------------\n",
      "---Iteration  18 of 52\n",
      "Kernel Sizes: [3, 4, 5, 6] | Number of filters: 11 | Dev Loss: 1.117882781072494 | Accuracy: 0.7213303\n",
      "Execution Time: 15.7320 seconds\n",
      "--------------------------------------------------------------------------------------------------------------\n",
      "---Iteration  19 of 52\n",
      "Kernel Sizes: [3, 4, 5, 6] | Number of filters: 12 | Dev Loss: 0.952239186391918 | Accuracy: 0.73738533\n",
      "Execution Time: 17.0555 seconds\n",
      "--------------------------------------------------------------------------------------------------------------\n",
      "---Iteration  20 of 52\n",
      "Kernel Sizes: [3, 4, 5, 6] | Number of filters: 13 | Dev Loss: 1.079756154926545 | Accuracy: 0.74311924\n",
      "Execution Time: 16.5306 seconds\n",
      "--------------------------------------------------------------------------------------------------------------\n",
      "---Iteration  21 of 52\n",
      "Kernel Sizes: [3, 4, 5, 6] | Number of filters: 14 | Dev Loss: 1.0263731840553634 | Accuracy: 0.7454128\n",
      "Execution Time: 16.8503 seconds\n",
      "--------------------------------------------------------------------------------------------------------------\n",
      "---Iteration  22 of 52\n",
      "Kernel Sizes: [3, 4, 5, 6] | Number of filters: 15 | Dev Loss: 1.264966368675232 | Accuracy: 0.73738533\n",
      "Execution Time: 17.1077 seconds\n",
      "--------------------------------------------------------------------------------------------------------------\n",
      "---Iteration  23 of 52\n",
      "Kernel Sizes: [3, 4, 5, 6] | Number of filters: 16 | Dev Loss: 0.9438106319226256 | Accuracy: 0.7522936\n",
      "Execution Time: 17.3411 seconds\n",
      "--------------------------------------------------------------------------------------------------------------\n",
      "---Iteration  24 of 52\n",
      "Kernel Sizes: [3, 4, 5, 6] | Number of filters: 17 | Dev Loss: 1.044164059632415 | Accuracy: 0.7385321\n",
      "Execution Time: 18.5058 seconds\n",
      "--------------------------------------------------------------------------------------------------------------\n",
      "---Iteration  25 of 52\n",
      "Kernel Sizes: [3, 4, 5, 6] | Number of filters: 18 | Dev Loss: 1.2239117250529998 | Accuracy: 0.7155963\n",
      "Execution Time: 18.1123 seconds\n",
      "--------------------------------------------------------------------------------------------------------------\n",
      "---Iteration  26 of 52\n",
      "Kernel Sizes: [3, 4, 5, 6] | Number of filters: 19 | Dev Loss: 1.1323958022878804 | Accuracy: 0.7465596\n",
      "Execution Time: 18.6447 seconds\n",
      "--------------------------------------------------------------------------------------------------------------\n",
      "---Iteration  27 of 52\n",
      "Kernel Sizes: [4, 5, 6] | Number of filters: 7 | Dev Loss: 0.7235296991986966 | Accuracy: 0.74426603\n",
      "Execution Time: 18.7882 seconds\n",
      "--------------------------------------------------------------------------------------------------------------\n",
      "---Iteration  28 of 52\n",
      "Kernel Sizes: [4, 5, 6] | Number of filters: 8 | Dev Loss: 0.8157455472771181 | Accuracy: 0.7603211\n",
      "Execution Time: 19.0050 seconds\n",
      "--------------------------------------------------------------------------------------------------------------\n",
      "---Iteration  29 of 52\n",
      "Kernel Sizes: [4, 5, 6] | Number of filters: 9 | Dev Loss: 0.8079879934634637 | Accuracy: 0.76490825\n",
      "Execution Time: 19.4235 seconds\n",
      "--------------------------------------------------------------------------------------------------------------\n",
      "---Iteration  30 of 52\n",
      "Kernel Sizes: [4, 5, 6] | Number of filters: 10 | Dev Loss: 1.297198255127723 | Accuracy: 0.70183486\n",
      "Execution Time: 19.9065 seconds\n",
      "--------------------------------------------------------------------------------------------------------------\n",
      "---Iteration  31 of 52\n",
      "Kernel Sizes: [4, 5, 6] | Number of filters: 11 | Dev Loss: 0.9093018489966699 | Accuracy: 0.7522936\n",
      "Execution Time: 20.2990 seconds\n",
      "--------------------------------------------------------------------------------------------------------------\n",
      "---Iteration  32 of 52\n",
      "Kernel Sizes: [4, 5, 6] | Number of filters: 12 | Dev Loss: 0.8302430915176322 | Accuracy: 0.76720184\n",
      "Execution Time: 20.6423 seconds\n",
      "--------------------------------------------------------------------------------------------------------------\n",
      "---Iteration  33 of 52\n",
      "Kernel Sizes: [4, 5, 6] | Number of filters: 13 | Dev Loss: 1.0778720056928626 | Accuracy: 0.7419725\n",
      "Execution Time: 21.1579 seconds\n",
      "--------------------------------------------------------------------------------------------------------------\n",
      "---Iteration  34 of 52\n",
      "Kernel Sizes: [4, 5, 6] | Number of filters: 14 | Dev Loss: 1.3110623108137638 | Accuracy: 0.6995413\n",
      "Execution Time: 21.3986 seconds\n",
      "--------------------------------------------------------------------------------------------------------------\n",
      "---Iteration  35 of 52\n",
      "Kernel Sizes: [4, 5, 6] | Number of filters: 15 | Dev Loss: 0.9854456175357924 | Accuracy: 0.7614679\n",
      "Execution Time: 23.3328 seconds\n",
      "--------------------------------------------------------------------------------------------------------------\n",
      "---Iteration  36 of 52\n",
      "Kernel Sizes: [4, 5, 6] | Number of filters: 16 | Dev Loss: 0.9688924397897283 | Accuracy: 0.771789\n",
      "Execution Time: 22.8777 seconds\n",
      "--------------------------------------------------------------------------------------------------------------\n",
      "---Iteration  37 of 52\n",
      "Kernel Sizes: [4, 5, 6] | Number of filters: 17 | Dev Loss: 0.919444707965632 | Accuracy: 0.76605505\n",
      "Execution Time: 22.8337 seconds\n",
      "--------------------------------------------------------------------------------------------------------------\n"
     ]
    },
    {
     "name": "stdout",
     "output_type": "stream",
     "text": [
      "---Iteration  38 of 52\n",
      "Kernel Sizes: [4, 5, 6] | Number of filters: 18 | Dev Loss: 1.3057621279987721 | Accuracy: 0.6995413\n",
      "Execution Time: 23.2944 seconds\n",
      "--------------------------------------------------------------------------------------------------------------\n",
      "---Iteration  39 of 52\n",
      "Kernel Sizes: [4, 5, 6] | Number of filters: 19 | Dev Loss: 1.0650091709893779 | Accuracy: 0.7087156\n",
      "Execution Time: 23.5558 seconds\n",
      "--------------------------------------------------------------------------------------------------------------\n",
      "---Iteration  40 of 52\n",
      "Kernel Sizes: [4, 5, 6, 7] | Number of filters: 7 | Dev Loss: 0.7556764778740909 | Accuracy: 0.7706422\n",
      "Execution Time: 23.8333 seconds\n",
      "--------------------------------------------------------------------------------------------------------------\n",
      "---Iteration  41 of 52\n",
      "Kernel Sizes: [4, 5, 6, 7] | Number of filters: 8 | Dev Loss: 1.1713126241613965 | Accuracy: 0.7178899\n",
      "Execution Time: 24.1983 seconds\n",
      "--------------------------------------------------------------------------------------------------------------\n",
      "---Iteration  42 of 52\n",
      "Kernel Sizes: [4, 5, 6, 7] | Number of filters: 9 | Dev Loss: 1.0581560807490566 | Accuracy: 0.7396789\n",
      "Execution Time: 24.6743 seconds\n",
      "--------------------------------------------------------------------------------------------------------------\n",
      "---Iteration  43 of 52\n",
      "Kernel Sizes: [4, 5, 6, 7] | Number of filters: 10 | Dev Loss: 0.8642956346546838 | Accuracy: 0.76376146\n",
      "Execution Time: 24.9676 seconds\n",
      "--------------------------------------------------------------------------------------------------------------\n",
      "---Iteration  44 of 52\n",
      "Kernel Sizes: [4, 5, 6, 7] | Number of filters: 11 | Dev Loss: 0.8526312047188435 | Accuracy: 0.7534404\n",
      "Execution Time: 25.4401 seconds\n",
      "--------------------------------------------------------------------------------------------------------------\n",
      "---Iteration  45 of 52\n",
      "Kernel Sizes: [4, 5, 6, 7] | Number of filters: 12 | Dev Loss: 1.1407633555044823 | Accuracy: 0.7488532\n",
      "Execution Time: 25.9516 seconds\n",
      "--------------------------------------------------------------------------------------------------------------\n",
      "---Iteration  46 of 52\n",
      "Kernel Sizes: [4, 5, 6, 7] | Number of filters: 13 | Dev Loss: 0.998213688167957 | Accuracy: 0.7614679\n",
      "Execution Time: 26.2381 seconds\n",
      "--------------------------------------------------------------------------------------------------------------\n",
      "---Iteration  47 of 52\n",
      "Kernel Sizes: [4, 5, 6, 7] | Number of filters: 14 | Dev Loss: 0.9569959629566298 | Accuracy: 0.7729358\n",
      "Execution Time: 26.6241 seconds\n",
      "--------------------------------------------------------------------------------------------------------------\n",
      "---Iteration  48 of 52\n",
      "Kernel Sizes: [4, 5, 6, 7] | Number of filters: 15 | Dev Loss: 1.1217926713304782 | Accuracy: 0.73509175\n",
      "Execution Time: 27.0962 seconds\n",
      "--------------------------------------------------------------------------------------------------------------\n",
      "---Iteration  49 of 52\n",
      "Kernel Sizes: [4, 5, 6, 7] | Number of filters: 16 | Dev Loss: 0.9809752549600164 | Accuracy: 0.75688076\n",
      "Execution Time: 27.6645 seconds\n",
      "--------------------------------------------------------------------------------------------------------------\n",
      "---Iteration  50 of 52\n",
      "Kernel Sizes: [4, 5, 6, 7] | Number of filters: 17 | Dev Loss: 0.9944415448592343 | Accuracy: 0.76376146\n",
      "Execution Time: 27.9786 seconds\n",
      "--------------------------------------------------------------------------------------------------------------\n",
      "---Iteration  51 of 52\n",
      "Kernel Sizes: [4, 5, 6, 7] | Number of filters: 18 | Dev Loss: 1.1651344769591585 | Accuracy: 0.7408257\n",
      "Execution Time: 28.5580 seconds\n",
      "--------------------------------------------------------------------------------------------------------------\n",
      "---Iteration  52 of 52\n",
      "Kernel Sizes: [4, 5, 6, 7] | Number of filters: 19 | Dev Loss: 1.1210085492615307 | Accuracy: 0.75688076\n",
      "Execution Time: 28.8789 seconds\n",
      "--------------------------------------------------------------------------------------------------------------\n"
     ]
    }
   ],
   "source": [
    "epochs = 20\n",
    "dev_losses = []\n",
    "dev_accuracies = []\n",
    "dense_layer_dims = [10]                           # Fully connected layers before softmax\n",
    "\n",
    "# ---------------- Hyper parameters for tuning the network ------------------------------------------ \n",
    "total_kernel_sizes = ([3,4,5],[3,4,5,6],[4,5,6],[4,5,6,7])  # Kernel sizes \n",
    "total_filter_range = range(7,20)                            # Number of total filter per kernel size\n",
    "# ---------------------------------------------------------------------------------------------------\n",
    "num_iterations = len(total_kernel_sizes)*len(total_filter_range)\n",
    "iteration = 0\n",
    "with tf.Session(config=tf.ConfigProto(log_device_placement=True,inter_op_parallelism_threads=12,intra_op_parallelism_threads=12)) as sess:\n",
    "    for kernel_sizes in total_kernel_sizes:      # Loop over kernel sizes \n",
    "        for total_filters in total_filter_range: # Loop over number of filters for each kernel\n",
    "            iteration+=1\n",
    "            start_time = time.time()\n",
    "            num_filters = [total_filters,total_filters,total_filters]  # Using same number of filters for each kernel for now\n",
    "            model= create_model(kernel_sizes,num_filters,dense_layer_dims)\n",
    "            model.reset_states()\n",
    "            model.fit(train_x, train_y, epochs=epochs,verbose=0,batch_size = 128, validation_data=(dev_x,dev_y))\n",
    "            loss, acc = model.evaluate(dev_x,dev_y,verbose=0)\n",
    "            print('---Iteration ', iteration, 'of', num_iterations)\n",
    "            print('Kernel Sizes:', kernel_sizes, '| Number of filters:',total_filters,'| Dev Loss:',loss,'| Accuracy:',acc)\n",
    "            dev_losses.append(loss)\n",
    "            dev_accuracies.append(acc)\n",
    "            print('Execution Time: %0.4f seconds'% (time.time() - start_time))\n",
    "            print('-'*110)\n",
    "            "
   ]
  },
  {
   "cell_type": "code",
   "execution_count": 27,
   "metadata": {
    "scrolled": true
   },
   "outputs": [
    {
     "data": {
      "image/png": "[encoded data removed]",
      "text/plain": [
       "<Figure size 432x288 with 1 Axes>"
      ]
     },
     "metadata": {
      "needs_background": "light"
     },
     "output_type": "display_data"
    },
    {
     "data": {
      "text/plain": [
       "[0.77408254, 0.7729358, 0.771789]"
      ]
     },
     "execution_count": 27,
     "metadata": {},
     "output_type": "execute_result"
    }
   ],
   "source": [
    "import matplotlib.pyplot as plt\n",
    "hyper_iter = range(len(total_filter_range)*len(total_kernel_sizes))\n",
    "plt.plot(hyper_iter,dev_accuracies,label='Dev Set Accuracy')\n",
    "#plt.plot(dev_losses,label='Dev Set Loss')\n",
    "plt.legend()\n",
    "plt.title(\"Performance of CNN while varying total filters for each kernel size\")\n",
    "plt.show()\n",
    "\n",
    "# Print top three configs\n",
    "idx = np.argsort(dev_accuracies)[::-1][:3]\n",
    "[dev_accuracies[i] for i in idx]"
   ]
  },
  {
   "cell_type": "markdown",
   "metadata": {},
   "source": [
    "#### Pick top three configurations and evaluate on test data\n",
    "\n",
    "\n",
    "- Best Config     : Kernel Sizes =[4,5,6,7]. Number of filters per kernel = 14\n",
    "- 2nd Best Config : Kernel Sizes =[3,4,5]. Number of filters per kernel = 19\n",
    "- 3rd Best Config : Kernel Sizes =[4,5,6]. Number of filters per kernel = 16"
   ]
  },
  {
   "cell_type": "code",
   "execution_count": 28,
   "metadata": {
    "scrolled": false
   },
   "outputs": [
    {
     "name": "stdout",
     "output_type": "stream",
     "text": [
      "Kernel Sizes: [4, 5, 6, 7] | Number of filters: 14\n",
      "Dev Loss: 0.9167712139427115 | Dev Accuracy: 0.76490825 | Test Loss: 0.8761989640246899 | Test Accuracy: 0.752883\n",
      "Execution Time: 35.5000 seconds\n",
      "-------------------------------------------------------------------------------------------------------------------\n",
      "Kernel Sizes: [3, 4, 5] | Number of filters: 19\n",
      "Dev Loss: 1.1482769972687468 | Dev Accuracy: 0.72477067 | Test Loss: 1.1759545849549253 | Test Accuracy: 0.72048324\n",
      "Execution Time: 37.1177 seconds\n",
      "-------------------------------------------------------------------------------------------------------------------\n",
      "Kernel Sizes: [4, 5, 6] | Number of filters: 16\n",
      "Dev Loss: 0.9766368946624459 | Dev Accuracy: 0.76376146 | Test Loss: 0.9601195130552452 | Test Accuracy: 0.7660626\n",
      "Execution Time: 36.9032 seconds\n",
      "-------------------------------------------------------------------------------------------------------------------\n"
     ]
    }
   ],
   "source": [
    "total_kernel_sizes = [[4,5,6,7],[3,4,5],[4,5,6]] # Pick the best kernel size and number config\n",
    "total_filter_range = [14,19,16] # Pick the top three filter numbers in descending order of accuracy\n",
    "\n",
    "epochs = 20\n",
    "dense_layer_dims=[10]\n",
    "dev_losses = []\n",
    "dev_accuracies = []\n",
    "test_losses = []\n",
    "test_accuracies = []\n",
    "import time \n",
    "\n",
    "# Train model and evaluate (tensorflow config already set to use CUDA GPU on this machine)\n",
    "with tf.Session(config=tf.ConfigProto(log_device_placement=True,inter_op_parallelism_threads=12,intra_op_parallelism_threads=12)) as sess:\n",
    "    for kernel_sizes,total_filters in zip(total_kernel_sizes,total_filter_range):\n",
    "        start_time = time.time()\n",
    "        num_filters = [total_filters,total_filters,total_filters]  # Using same number of filters for each kernel for now\n",
    "        model= create_model(kernel_sizes,num_filters,dense_layer_dims)\n",
    "        model.reset_states()\n",
    "        model.fit(train_x, train_y, epochs=epochs,verbose=0,batch_size = 128)\n",
    "        dev_loss, dev_acc = model.evaluate(dev_x,dev_y,verbose=0)\n",
    "        dev_losses.append(dev_loss)\n",
    "        dev_accuracies.append(dev_acc)\n",
    "        test_loss, test_acc = model.evaluate(test_x,test_y,verbose=0)\n",
    "        test_losses.append(test_loss)\n",
    "        test_accuracies.append(test_acc)\n",
    "        print('Kernel Sizes:', kernel_sizes, '| Number of filters:',total_filters)\n",
    "        print('Dev Loss:',dev_loss,'| Dev Accuracy:',dev_acc, '| Test Loss:',test_loss,'| Test Accuracy:',test_acc)\n",
    "        print('Execution Time: %0.4f seconds'% (time.time() - start_time))\n",
    "        print('-'*115)\n"
   ]
  },
  {
   "cell_type": "markdown",
   "metadata": {},
   "source": [
    "When evaluated on the test dataset, config 3 gives the best accuracy and loss which is oppostie of the evaluation done on the dev dataset. This indicates that the model is overfitting the dev data set. It is worthwhile to note that the confg1 (best config on dev set) has an accuracy quite close to the config 3(best config from test set)."
   ]
  },
  {
   "cell_type": "code",
   "execution_count": 29,
   "metadata": {},
   "outputs": [
    {
     "data": {
      "image/png": "[encoded data removed]",
      "text/plain": [
       "<Figure size 432x288 with 1 Axes>"
      ]
     },
     "metadata": {
      "needs_background": "light"
     },
     "output_type": "display_data"
    }
   ],
   "source": [
    "hyper_iter = range(1,4)\n",
    "plt.plot(hyper_iter,dev_accuracies,label='Dev Set Accuracy')\n",
    "plt.plot(hyper_iter,test_accuracies,label='Test Set Accuracy')\n",
    "plt.legend()\n",
    "plt.title(\"Performance of CNN while varying total filters for each kernel size\")\n",
    "plt.show()"
   ]
  },
  {
   "cell_type": "code",
   "execution_count": null,
   "metadata": {},
   "outputs": [],
   "source": []
  }
 ],
 "metadata": {
  "kernelspec": {
   "display_name": "Python 3",
   "language": "python",
   "name": "python3"
  },
  "language_info": {
   "codemirror_mode": {
    "name": "ipython",
    "version": 3
   },
   "file_extension": ".py",
   "mimetype": "text/x-python",
   "name": "python",
   "nbconvert_exporter": "python",
   "pygments_lexer": "ipython3",
   "version": "3.7.3"
  }
 },
 "nbformat": 4,
 "nbformat_minor": 2
}
