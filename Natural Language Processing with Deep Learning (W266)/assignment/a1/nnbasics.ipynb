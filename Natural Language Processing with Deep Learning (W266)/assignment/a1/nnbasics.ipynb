{
 "cells": [
  {
   "cell_type": "markdown",
   "metadata": {},
   "source": [
    "# Neural Network Basics\n",
    "\n",
    "### Brief Review of Machine Learning\n",
    "\n",
    "In supervised learning, parametric models are those where the model is a function of a fixed form with a number of unknown _parameters_.  Together with a loss function and a training set, an optimizer can select parameters to minimize the loss with respect to the training set.  Common optimizers include stochastic gradient descent.  It tweaks the parameters slightly to move the loss \"downhill\" due to a small batch of examples from the training set.\n",
    "\n",
    "## Part A:  Linear & Logistic Regression\n",
    "\n",
    "You've likely seen linear regression before.  In linear regression, we fit a line (technically, hyperplane) that predicts a target variable, $y$, based on some features $x$.  The form of this model is affine (even if we call it \"linear\"):  \n",
    "\n",
    "$$y_{hat} = xW + b$$\n",
    "\n",
    "where $W$ and $b$ are weights and an offset, respectively, and are the parameters of this parametric model.  The loss function that the optimizer uses to fit these parameters is the squared error ($||\\cdots||_2$) between the prediction and the ground truth in the training set.\n",
    "\n",
    "You've also likely seen logistic regression, which is tightly related to linear regression.  Logistic regression also fits a line - this time separating the positive and negative examples of a binary classifier.  The form of this model is similar: \n",
    "\n",
    "$$y_{hat} = \\sigma(xW + b)$$\n",
    "\n",
    "where again $W$ and $b$ are the parameters of this model, and $\\sigma$ is the [sigmoid function](https://en.wikipedia.org/wiki/Sigmoid_function) which maps un-normalized scores (\"logits\") to values $\\hat{y} \\in [0,1]$ that represent probabilities. The loss function that the optimizer uses to fit these parameters is the [cross entropy](./information_theory.ipynb) between the prediction and the ground truth in the training set.\n",
    "\n",
    "This pattern of an affine transform, $xW + b$, occurs over and over in machine learning.\n",
    "\n",
    "**We'll use logistic regression as our running example for the rest of this part.**\n",
    "\n",
    "\n",
    "### Short Answer Questions\n",
    "\n",
    "Imagine you want to implement logistic regression:\n",
    "\n",
    "* `z = xW + b`\n",
    "* `y_hat = sigmoid(z)`\n",
    "\n",
    "Where:\n",
    "1.  `x` is a 10-dimensional feature vector\n",
    "2.  `W` is the weight vector\n",
    "3.  `b` is the bias term\n",
    "\n",
    "What are the dimensions of `W` and `b`?  Recall that in logistic regression, `z` is just a scalar (commonly referred to as the \"logit\").\n",
    "\n",
    "Sketch a picture of the whole equation using rectangles to illustrate the dimensions of `x`, `W`, and `b`.  See examples below for inspiration (though please label each dimension).  We don't ask you to submit this, but make sure you can do it!  It's the \"print\" debugging statement of neural networks!  It's also useful for reading papers... if you can't draw the shapes of all the tensors, you don't (yet) know what's going on!"
   ]
  },
  {
   "cell_type": "markdown",
   "metadata": {},
   "source": [
    "## Part B: Batching\n",
    "\n",
    "Let's say we want to perform inference using your model (parameters `W` and `b`) above on 10 examples intsead of just 1. On modern hardware (especially GPUs), we can do this efficiently by *batching*.\n",
    "\n",
    "To do this, we stack up the feature vectors in x like in the diagram below.  Note that changing the number of examples you run on (i.e. your batch size) *does not* affect the number of parameters in your model.  You're just running the same thing in parallel (instead of running the above one feature vector at a time at a time).\n",
    "\n",
    "![](batchaffine.png)\n",
    "\n",
    "The red (# features) and blue (batch size) lines represent dimensions that are the same.\n",
    "\n",
    "### Short Answer Questions\n",
    "\n",
    "If we have 10 features and running the model in parallel with 30 examples, what are the dimensions of:\n",
    "\n",
    "1. `W` ?\n",
    "2. `b` ?\n",
    "3. `x` ?\n",
    "4. `z` ?\n",
    "\n",
    "_Hint:_ remember that your model parameters stay fixed!"
   ]
  },
  {
   "cell_type": "markdown",
   "metadata": {},
   "source": [
    "## Part C: Logistic Regression - NumPy Implementation\n",
    "\n",
    "In this section, we'll implement logistic regression by hand and compute a few values to make sure we understand what's going on!\n",
    "\n",
    "Let's say your model has the following parameters:"
   ]
  },
  {
   "cell_type": "code",
   "execution_count": 2,
   "metadata": {},
   "outputs": [],
   "source": [
    "import numpy as np\n",
    "\n",
    "W = np.array([45,6,3,25,-1])\n",
    "b = 5"
   ]
  },
  {
   "cell_type": "markdown",
   "metadata": {},
   "source": [
    "If you want to run the model on the following three examples:\n",
    "\n",
    "* [1, 2, 3, 4, 5]\n",
    "* [0, 0, 0, 0, 5]\n",
    "* [-3, -4, -12, -1, 1]\n",
    "\n",
    "Construct the x matrix **such that you compute the answer all in one big batch** and compute the probability of the positive class for each."
   ]
  },
  {
   "cell_type": "code",
   "execution_count": 5,
   "metadata": {},
   "outputs": [
    {
     "name": "stdout",
     "output_type": "stream",
     "text": [
      "[[1.00000000e+00]\n",
      " [5.00000000e-01]\n",
      " [1.55737037e-94]]\n"
     ]
    }
   ],
   "source": [
    "# Import sigmoid.\n",
    "from scipy.special import expit as sigmoid\n",
    "\n",
    "### YOUR CODE HERE\n",
    "# Create a matrix with input examples and features\n",
    "x = np.matrix([[1,2,3,4,5],[0,0,0,0,5],[-3,-4,-12,-1,1]])\n",
    "W = np.reshape(W,(-1,1))  # reshape to create rank 2 tensor for matrix multiplication\n",
    "z = x*W+b\n",
    "y_hat = sigmoid(z)\n",
    "print(y_hat)\n",
    "### END YOUR CODE"
   ]
  },
  {
   "cell_type": "markdown",
   "metadata": {},
   "source": [
    "### Short Answer Questions\n",
    "\n",
    "1. What is the probability of the positive class for the second (middle) example?\n",
    "2. What is the cross-entropy loss of the second example if its label is positive?"
   ]
  },
  {
   "cell_type": "markdown",
   "metadata": {},
   "source": [
    "## Part D: NumPy Feed Forward Neural Network\n",
    "\n",
    "Let's do the same procedure for a simple feed-forward neural network.\n",
    "\n",
    "Imagine you have a 3 layer network.  Each hidden layer is size 10.  Just like before, you've already trained your model and you just want to run it forward.  For this exercise, let's say that each weight matrix is np.ones(...) and each bias term is [-1, -2, -3, ..., -n] if the bias term is $n$ long.  Compute the probability of the positive class for the three examples above, again in a single batch.\n",
    "\n",
    "**Hint:  Draw the shapes of the matrices at each layer out on a piece of paper!  Include it with any questions you post to Piazza.**\n",
    "\n",
    "Assume your model uses a sigmoid as the nonlinearity for all layers."
   ]
  },
  {
   "cell_type": "code",
   "execution_count": 19,
   "metadata": {},
   "outputs": [
    {
     "name": "stdout",
     "output_type": "stream",
     "text": [
      "[[0.99967432]\n",
      " [0.95354128]\n",
      " [0.3691505 ]]\n"
     ]
    }
   ],
   "source": [
    "### YOUR CODE HERE\n",
    "x = np.matrix([[1,2,3,4,5],[0,0,0,0,5],[-3,-4,-12,-1,1]])\n",
    "\n",
    "# First layer \n",
    "W1 = np.ones([5,10])\n",
    "b1 = np.arange(-1,-11,-1)\n",
    "z1 = x*W1+b1\n",
    "h1 = sigmoid(z1)\n",
    "assert h1.shape == (3,10)\n",
    "\n",
    "# Second layer \n",
    "W2 = np.ones([10,10])\n",
    "b2 = np.arange(-1,-11,-1)\n",
    "z2 = h1*W2+b2\n",
    "h2 = sigmoid(z2)\n",
    "assert h2.shape == (3,10)\n",
    "\n",
    "# Third layer \n",
    "W3 = np.ones([10,1])\n",
    "b3 = np.arange(-1,0,1)\n",
    "z3 = h2*W3+b3\n",
    "y_hat = sigmoid(z3)\n",
    "assert y_hat.shape == (3,1)\n",
    "\n",
    "print(y_hat)\n",
    "### END YOUR CODE"
   ]
  },
  {
   "cell_type": "markdown",
   "metadata": {},
   "source": [
    "### Short Answer Questions\n",
    "\n",
    "1.  What is the probability of the third example?\n",
    "2.  What is the cross-entropy loss if its label is negative?"
   ]
  },
  {
   "cell_type": "markdown",
   "metadata": {},
   "source": [
    "## Part E: Softmax\n",
    "\n",
    "Recall that softmax(z) is a vector with the same length as z, and whose components are:  $softmax(z)_i = \\frac{e^{z_i}}{\\Sigma_j e^{z_j}}$.\n",
    "\n",
    "### Short Answer Questions\n",
    "\n",
    "1. If the logits coming from the main body of the network are [1, 2, 3], what is the probability of the middle class?\n",
    "2. What is the cross-entropy loss if the correct class is the last one? (i.e. corresponding to logit=3)?\n",
    "3. If you had such a three-class classification problem, what would the dimensions of W and b be for the last layer of the feed forward neural network above? "
   ]
  },
  {
   "cell_type": "code",
   "execution_count": 32,
   "metadata": {},
   "outputs": [
    {
     "name": "stdout",
     "output_type": "stream",
     "text": [
      "[0.09003057 0.24472847 0.66524096]\n",
      "0.5880511035406706\n"
     ]
    }
   ],
   "source": [
    "z = [1,2,3]\n",
    "\n",
    "e_z = np.exp(z)\n",
    "preds = e_z/sum(e_z)\n",
    "print(preds)\n",
    "\n",
    "y_true=[0,0,1]\n",
    "ce=-1*(y_true*np.log2(preds))\n",
    "\n",
    "print(sum(ce))"
   ]
  }
 ],
 "metadata": {
  "kernelspec": {
   "display_name": "Python 3",
   "language": "python",
   "name": "python3"
  },
  "language_info": {
   "codemirror_mode": {
    "name": "ipython",
    "version": 3
   },
   "file_extension": ".py",
   "mimetype": "text/x-python",
   "name": "python",
   "nbconvert_exporter": "python",
   "pygments_lexer": "ipython3",
   "version": "3.7.2"
  }
 },
 "nbformat": 4,
 "nbformat_minor": 2
}
